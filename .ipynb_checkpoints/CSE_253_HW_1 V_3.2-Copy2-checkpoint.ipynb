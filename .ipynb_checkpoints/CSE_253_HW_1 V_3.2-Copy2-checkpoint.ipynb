{
 "cells": [
  {
   "cell_type": "code",
   "execution_count": 3,
   "metadata": {
    "collapsed": true,
    "scrolled": false
   },
   "outputs": [],
   "source": [
    "#Read in the data from the files.\n",
    "from mnist import MNIST\n",
    "import numpy as np\n",
    "mndata = MNIST('../../HW1/mnist')\n",
    "\n",
    "trainData, trainLabel = mndata.load_training()\n",
    "\n",
    "testData, testLabel = mndata.load_testing()\n",
    "\n",
    "trainData = np.asarray(trainData)\n",
    "testData = np.asarray(testData)\n",
    "trainLabel = np.asarray(trainLabel)[:, np.newaxis]\n",
    "testLabel = np.asarray(testLabel)[:, np.newaxis]"
   ]
  },
  {
   "cell_type": "code",
   "execution_count": 4,
   "metadata": {},
   "outputs": [
    {
     "data": {
      "image/png": "[encoded data removed]",
      "text/plain": [
       "<matplotlib.figure.Figure at 0x2f23fab8c18>"
      ]
     },
     "metadata": {},
     "output_type": "display_data"
    }
   ],
   "source": [
    "#Show a templete of digits.\n",
    "import numpy as np\n",
    "import matplotlib.pyplot as plt\n",
    "import matplotlib.cm as cm\n",
    "import time\n",
    "\n",
    "\n",
    "img = np.reshape(trainData[0],(28,28))\n",
    "plt.figure()\n",
    "plt.imshow(img, cmap=cm.gray)\n",
    "plt.show()"
   ]
  },
  {
   "cell_type": "code",
   "execution_count": 25,
   "metadata": {},
   "outputs": [],
   "source": [
    "# Process the range of pixel value to [-1..1]\n",
    "xTrain = trainData / 127.5 - 1\n",
    "yTrain = trainLabel\n",
    "\n",
    "xTest = testData / 127.5 - 1\n",
    "yTest = testLabel\n",
    "\n",
    "# tack on a \"1\" at the beginning for a bias parameter\n",
    "biasTrain = np.ones(len(xTrain))[:, np.newaxis]\n",
    "biasTest = np.ones(len(xTest))[:, np.newaxis]\n",
    "xTrain = np.concatenate((biasTrain,xTrain), axis=1)\n",
    "xTest = np.concatenate((biasTest,xTest), axis=1)"
   ]
  },
  {
   "cell_type": "markdown",
   "metadata": {},
   "source": [
    "# Logistic Regression via Gradient Descent"
   ]
  },
  {
   "cell_type": "code",
   "execution_count": 37,
   "metadata": {
    "collapsed": true
   },
   "outputs": [],
   "source": [
    "# Define data extraction function\n",
    "def dataExtract(data, label, target1, target2):\n",
    "    indexTg1 = np.where(label == target1)[0]\n",
    "    dataTg1 = data[indexTg1]\n",
    "    labelTg1 = np.ones(len(indexTg1))[:,np.newaxis]\n",
    "    indexTg2 = np.where(label == target2)[0]\n",
    "    dataTg2 = data[indexTg2]\n",
    "    labelTg2 = np.zeros(len(indexTg2))[:,np.newaxis]\n",
    "    dataEx = np.concatenate((dataTg1,dataTg2), axis = 0)\n",
    "    labelEx = np.concatenate((labelTg1,labelTg2), axis = 0)\n",
    "    return dataEx, labelEx\n",
    "\n",
    "xTrain28, yTrain28 = dataExtract(xTrain, yTrain, 2, 8)\n",
    "xTest28, yTest28 = dataExtract(xTest, yTest, 2, 8)"
   ]
  },
  {
   "cell_type": "code",
   "execution_count": 66,
   "metadata": {
    "collapsed": true
   },
   "outputs": [],
   "source": [
    "from sklearn.model_selection import train_test_split\n",
    "\n",
    "def sigmoid(x):\n",
    "    return 1.0 / (1 + np.exp(-x))\n",
    "\n",
    "def calculateLossLR(data, label, weight, lam):\n",
    "    E = -1.0 * np.mean(label * np.log(sigmoid(np.dot(data, weight)))\\\n",
    "                         + (1 - label) * np.log(1 - sigmoid(np.dot(data, weight))))\n",
    "    C = np.sum(np.power(weight, 2))\n",
    "    loss = E + lam * C\n",
    "    return loss\n",
    "\n",
    "def logisticRegression(trainData, trainLabel, lr = 1e-3, maxIter = 500, T = 2e8, lam = 1e-3, batchSize = 1):\n",
    "    trainD, validD, trainL, validL = train_test_split(trainData, trainLabel, test_size=0.1, random_state=42)        \n",
    "    w_0 = np.zeros((len(trainD[0]), 1))\n",
    "    it = 0\n",
    "    while it <= maxIter:\n",
    "        lr1 = lr / (1.0 + it / T)\n",
    "        for startInd in range(0, len(trainData) - batchSize + 1, batchSize):\n",
    "            trainDBatch = trainD[startInd : startInd + batchSize]\n",
    "            trainLBatch = trainL[startInd : startInd + batchSize]\n",
    "            derE = np.mean((sigmoid(np.dot(trainDBatch, w_0)) - trainLBatch) \\\n",
    "                          * trainDBatch, axis = 0)[:, np.newaxis]\n",
    "            derC = 2.0 * np.sum(w_0)\n",
    "            derJ = derE + lam * derC\n",
    "            w_0 -= lr1 * derJ\n",
    "        loss = calculateLossLR(validD, validL, w_0, lam)\n",
    "        if it % 100 == 0:\n",
    "            print(loss)\n",
    "        it += 1\n",
    "    return w_0"
   ]
  },
  {
   "cell_type": "code",
   "execution_count": 73,
   "metadata": {
    "scrolled": true
   },
   "outputs": [
    {
     "name": "stdout",
     "output_type": "stream",
     "text": [
      "0.429911105598\n",
      "0.0844853103409\n",
      "0.0793186686404\n",
      "0.0777809370218\n",
      "0.0771583228958\n",
      "0.0768908884076\n",
      "0.0767985002534\n",
      "0.0768065973458\n",
      "0.0768783603732\n",
      "0.0769931182047\n",
      "0.0771381333187\n"
     ]
    }
   ],
   "source": [
    "weight = logisticRegression(xTrain28, yTrain28, 1.5e-2, 1000, lam = 1e-4, batchSize = int(len(xTrain28) / 10))"
   ]
  },
  {
   "cell_type": "code",
   "execution_count": 74,
   "metadata": {},
   "outputs": [
    {
     "data": {
      "text/plain": [
       "0.98055832502492524"
      ]
     },
     "execution_count": 74,
     "metadata": {},
     "output_type": "execute_result"
    }
   ],
   "source": [
    "def pecisionRate(data, label, weight):\n",
    "    pred = sigmoid(np.dot(data, weight))\n",
    "    pred[pred >= 0.5] = 1\n",
    "    pred[pred < 0.5] = 0\n",
    "    rate = 1.0 * np.sum([a == b for (a, b) in zip(pred, label)]) / len(label)\n",
    "    return rate\n",
    "\n",
    "acc = pecisionRate(xTest28, yTest28, weight)\n",
    "acc"
   ]
  },
  {
   "cell_type": "code",
   "execution_count": null,
   "metadata": {
    "collapsed": true
   },
   "outputs": [],
   "source": []
  },
  {
   "cell_type": "code",
   "execution_count": 69,
   "metadata": {
    "collapsed": true
   },
   "outputs": [],
   "source": [
    "from sklearn.model_selection import train_test_split\n",
    "def calculateLoss(data, label, weight, lam):\n",
    "    a = data.dot(weight)\n",
    "    y = np.exp(a) / np.sum(np.exp(a), axis=1)[:, np.newaxis]\n",
    "    E = -1.0 * np.mean(label * np.log(y))\n",
    "    C = np.sum(np.power(weight, 2))\n",
    "    loss = E + lam * C\n",
    "    return loss\n",
    "\n",
    "def oneHot(label):\n",
    "    labelHot = np.zeros((len(label),len(np.unique(label))))\n",
    "    for i in range(len(label)):\n",
    "        labelHot[i,label[i]] = 1\n",
    "    return labelHot\n",
    "\n",
    "def softmaxRegression(trainData, trainLabel, lr = 1e-4, maxIter = 500, T = 2e8, lam = 1e-3, batchSize = 1):\n",
    "    classNum = len(np.unique(trainLabel))\n",
    "    trainLabel = oneHot(trainLabel)\n",
    "    trainD, validD, trainL, validL = train_test_split(trainData, trainLabel, test_size=0.1, random_state=42)    \n",
    "    w_0 = np.zeros((len(trainData[0]), classNum))\n",
    "    it = 0    \n",
    "    while it <= maxIter:\n",
    "        lr1 = lr / (1.0 + it / T)\n",
    "        # Gradient Descent\n",
    "        for startInd in range(0, len(trainData) - batchSize + 1, batchSize):\n",
    "            trainDBatch = trainD[startInd : startInd + batchSize]\n",
    "            trainLBatch = trainL[startInd : startInd + batchSize]\n",
    "            a = trainDBatch.dot(w_0)\n",
    "            y = np.exp(a) / np.sum(np.exp(a), axis=1)[:, np.newaxis]\n",
    "            y = y - trainLBatch        \n",
    "            derE = 1.0 * trainDBatch.T.dot(y) / batchSize\n",
    "            derC = 2.0 * np.sum(w_0)\n",
    "            derJ = derE + lam * derC\n",
    "            w_0 -= lr1 * derJ\n",
    "        lossV = calculateLoss(validD, validL, w_0, lam)\n",
    "        if it % 100 == 0:\n",
    "            print (lossV)\n",
    "        it += 1\n",
    "    print ('done')\n",
    "    return w_0"
   ]
  },
  {
   "cell_type": "code",
   "execution_count": 63,
   "metadata": {
    "scrolled": true
   },
   "outputs": [
    {
     "name": "stdout",
     "output_type": "stream",
     "text": [
      "1.44450540388\n",
      "0.0337977770761\n",
      "0.033913156151\n",
      "0.0446888522617\n",
      "0.035740750449\n",
      "0.0368835198606\n",
      "0.0660028793269\n",
      "0.0381598880233\n",
      "done\n"
     ]
    }
   ],
   "source": [
    "weight = softmaxRegression(xTrain, yTrain, 1.75e-1, 700, lam = 1e-4, batchSize = int(len(xTrain) / 10))"
   ]
  },
  {
   "cell_type": "code",
   "execution_count": 64,
   "metadata": {
    "collapsed": true
   },
   "outputs": [],
   "source": [
    "def pecisionRate(data, label, weight):\n",
    "    correct = 0\n",
    "    label = oneHot(label)\n",
    "    for i in range(len(data)):\n",
    "        a = data[i][np.newaxis,:].dot(weight)\n",
    "        y = (np.exp(a) / np.sum(np.exp(a)))[0]\n",
    "        prediction = np.where(y == np.max(y))[0][0]\n",
    "        if label[i, prediction] == 1:\n",
    "            correct += 1\n",
    "    rate = 1.0 * correct / len(label)\n",
    "    return rate"
   ]
  },
  {
   "cell_type": "code",
   "execution_count": 65,
   "metadata": {},
   "outputs": [
    {
     "data": {
      "text/plain": [
       "0.9239"
      ]
     },
     "execution_count": 65,
     "metadata": {},
     "output_type": "execute_result"
    }
   ],
   "source": [
    "yTeHot = oneHot(yTest)\n",
    "acc = pecisionRate(xTest, yTest, weight)\n",
    "acc"
   ]
  },
  {
   "cell_type": "code",
   "execution_count": null,
   "metadata": {
    "collapsed": true
   },
   "outputs": [],
   "source": []
  }
 ],
 "metadata": {
  "kernelspec": {
   "display_name": "Python 3",
   "language": "python",
   "name": "python3"
  },
  "language_info": {
   "codemirror_mode": {
    "name": "ipython",
    "version": 3
   },
   "file_extension": ".py",
   "mimetype": "text/x-python",
   "name": "python",
   "nbconvert_exporter": "python",
   "pygments_lexer": "ipython3",
   "version": "3.6.3"
  }
 },
 "nbformat": 4,
 "nbformat_minor": 2
}
