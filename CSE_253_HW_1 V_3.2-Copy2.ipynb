{
 "cells": [
  {
   "cell_type": "code",
   "execution_count": 309,
   "metadata": {
    "scrolled": false
   },
   "outputs": [],
   "source": [
    "#Read in the data from the files.\n",
    "from mnist import MNIST\n",
    "import numpy as np\n",
    "mndata = MNIST('../HW1/mnist')\n",
    "\n",
    "trainData, trainLabel = mndata.load_training()\n",
    "\n",
    "testData, testLabel = mndata.load_testing()\n",
    "\n",
    "trainData = np.asarray(trainData)\n",
    "testData = np.asarray(testData)\n",
    "trainLabel = np.asarray(trainLabel)[:, np.newaxis]\n",
    "testLabel = np.asarray(testLabel)[:, np.newaxis]"
   ]
  },
  {
   "cell_type": "code",
   "execution_count": 234,
   "metadata": {},
   "outputs": [
    {
     "data": {
      "image/png": "[encoded data removed]",
      "text/plain": [
       "<matplotlib.figure.Figure at 0x139b80d3b70>"
      ]
     },
     "metadata": {},
     "output_type": "display_data"
    }
   ],
   "source": [
    "#Show a templete of digits.\n",
    "import numpy as np\n",
    "import matplotlib.pyplot as plt\n",
    "import matplotlib.cm as cm\n",
    "import time\n",
    "\n",
    "\n",
    "img = np.reshape(trainData[0],(28,28))\n",
    "plt.figure()\n",
    "plt.imshow(img, cmap=cm.gray)\n",
    "plt.show()"
   ]
  },
  {
   "cell_type": "code",
   "execution_count": 310,
   "metadata": {
    "collapsed": true
   },
   "outputs": [],
   "source": [
    "def FeatureBuilder(data):\n",
    "    feat = []\n",
    "    feat.append(1)\n",
    "    for t in data:\n",
    "        feat.append(t)\n",
    "    return feat"
   ]
  },
  {
   "cell_type": "code",
   "execution_count": 313,
   "metadata": {
    "collapsed": true
   },
   "outputs": [],
   "source": [
    "xTrain = [FeatureBuilder(d) for d in np.asarray(trainData)]\n",
    "xTest = [FeatureBuilder(d) for d in np.asarray(testData)]\n",
    "# Process the range of pixel value to [-1..1]\n",
    "xTrain = np.asarray(xTrain)\n",
    "#xTrain = xTrain / 255.0\n",
    "xTrain = xTrain / 127.5 - 1\n",
    "yTrain = trainLabel\n",
    "\n",
    "xTest = np.asarray(xTest)\n",
    "#xTest = xTest / 255.0\n",
    "xTest = xTest / 127.5 - 1\n",
    "yTest = testLabel"
   ]
  },
  {
   "cell_type": "markdown",
   "metadata": {},
   "source": [
    "# Logistic Regression via Gradient Descent"
   ]
  },
  {
   "cell_type": "code",
   "execution_count": 315,
   "metadata": {
    "collapsed": true
   },
   "outputs": [],
   "source": [
    "# Define data extraction function\n",
    "def dataExtract(data, label, target1, target2):\n",
    "    dataEx = []\n",
    "    labelEx = []\n",
    "    for x, y in zip(data, label):\n",
    "        if y == target1:\n",
    "            dataEx.append(x)\n",
    "            labelEx.append(1)\n",
    "        if y == target2:\n",
    "            dataEx.append(x)\n",
    "            labelEx.append(0)\n",
    "    dataEx = np.asarray(dataEx)\n",
    "    labelEx = np.expand_dims(np.asarray(labelEx),axis = 1)\n",
    "    return dataEx, labelEx"
   ]
  },
  {
   "cell_type": "code",
   "execution_count": 316,
   "metadata": {},
   "outputs": [],
   "source": [
    "xTrain28, yTrain28 = dataExtract(xTrain, yTrain, 2, 8)\n",
    "xTest28, yTest28 = dataExtract(xTest, yTest, 2, 8)"
   ]
  },
  {
   "cell_type": "code",
   "execution_count": 323,
   "metadata": {
    "collapsed": true
   },
   "outputs": [],
   "source": [
    "def sigmoid(x):\n",
    "    return 1.0 / (1 + np.exp(-x))\n",
    "\n",
    "def calculateLossLR(data, label, weight):\n",
    "    loss = -1.0 * np.sum(label * np.log(sigmoid(np.dot(data, weight)))\\\n",
    "                         + (1 - label) * np.log(1 - sigmoid(np.dot(data, weight))))\n",
    "    loss = loss / len(data)\n",
    "    return loss\n",
    "\n",
    "def logisticRegression(trainD, trainL, lr = 1e-5, maxIter = 500, T = 500):\n",
    "        \n",
    "    validRate = int(len(trainD) * 9.0 / 10)\n",
    "    \n",
    "    validD = trainD[validRate:]\n",
    "    validL = trainL[validRate:]\n",
    "    \n",
    "    trainDa = trainD[:validRate]\n",
    "    trainLa = trainL[:validRate]\n",
    "    \n",
    "    w_0 = np.zeros((len(trainDa[0]), 1))\n",
    "    it = 0\n",
    "    while it <= maxIter:\n",
    "        lr1 = lr / (1.0 + it / T)\n",
    "        \n",
    "        derE = np.sum((sigmoid(np.dot(trainDa, w_0)) - trainLa) \\\n",
    "                      * trainDa, axis = 0)[:, np.newaxis]\n",
    "        w_0 -= lr1 * derE\n",
    "        loss = calculateLossLR(validD, validL, w_0)\n",
    "        if it % 100 == 0:\n",
    "            print(loss)\n",
    "        it += 1\n",
    "    return w_0"
   ]
  },
  {
   "cell_type": "code",
   "execution_count": 331,
   "metadata": {
    "scrolled": true
   },
   "outputs": [
    {
     "name": "stdout",
     "output_type": "stream",
     "text": [
      "0.383240611826\n",
      "0.0723836682338\n",
      "0.0652990092467\n",
      "0.0628444936198\n",
      "0.0616605775118\n",
      "0.0609581747702\n",
      "0.0604797467051\n",
      "0.0601232347087\n",
      "0.0598415141021\n",
      "0.0596099584993\n",
      "0.0594143401529\n"
     ]
    }
   ],
   "source": [
    "weight = logisticRegression(xTrain28, yTrain28, 1e-5, 1000)"
   ]
  },
  {
   "cell_type": "code",
   "execution_count": 332,
   "metadata": {
    "collapsed": true
   },
   "outputs": [],
   "source": [
    "def pecisionRate(data, label, weight):\n",
    "    pred = sigmoid(np.dot(data, weight))\n",
    "    pred[pred >= 0.5] = 1\n",
    "    pred[pred < 0.5] = 0\n",
    "    rate = 1.0 * np.sum([a == b for (a, b) in zip(pred, label)]) / len(label)\n",
    "    return rate"
   ]
  },
  {
   "cell_type": "code",
   "execution_count": 333,
   "metadata": {},
   "outputs": [
    {
     "data": {
      "text/plain": [
       "0.97856430707876374"
      ]
     },
     "execution_count": 333,
     "metadata": {},
     "output_type": "execute_result"
    }
   ],
   "source": [
    "acc = pecisionRate(xTest28, yTest28, weight)\n",
    "acc"
   ]
  },
  {
   "cell_type": "code",
   "execution_count": 372,
   "metadata": {},
   "outputs": [],
   "source": [
    "def calculateLoss(data, label, weight, lam):\n",
    "    a = data.dot(weight)\n",
    "    y = np.exp(a) / np.sum(np.exp(a), axis=1)[:, np.newaxis]\n",
    "    E = -1.0 * np.sum(label * np.log(y)) / len(data)\n",
    "    C = np.sum(np.power(weight, 2))\n",
    "    loss = E + lam * C\n",
    "    return loss\n",
    "\n",
    "def oneHot(label):\n",
    "    labelHot = np.zeros((len(label),len(np.unique(label))))\n",
    "    for i in range(len(label)):\n",
    "        labelHot[i,label[i]] = 1\n",
    "    return labelHot\n",
    "\n",
    "def softmaxRegression(trainData, trainLabel, lr = 1e-4, maxIter = 500, T = 500, lam = 1e-3):\n",
    "    \n",
    "    classNum = len(np.unique(trainLabel))\n",
    "    trainLabel = oneHot(trainLabel)\n",
    "    \n",
    "    validRate = int(len(trainData) * 9.0 / 10)\n",
    "    \n",
    "    trainD = trainData[:validRate]\n",
    "    trainL = trainLabel[:validRate]\n",
    "    \n",
    "    validD = trainData[validRate:]\n",
    "    validL = trainLabel[validRate:]\n",
    "    \n",
    "    w_0 = np.zeros((len(trainData[0]), classNum))\n",
    "    it = 0\n",
    "    \n",
    "    while it <= maxIter:\n",
    "        lr1 = lr / (1.0 + it / T)\n",
    "        # Gradient Descent\n",
    "        a = trainD.dot(w_0)\n",
    "        y = np.exp(a) / np.sum(np.exp(a), axis=1)[:, np.newaxis]\n",
    "        y = y - trainL\n",
    "        derE = np.zeros((len(trainD[0]), classNum))\n",
    "        for i in range(classNum):\n",
    "            derE[:, i] = np.sum(trainD * y[:, i][:, np.newaxis], axis = 0)\n",
    "        derC = 2 * np.sum(w_0)\n",
    "        derJ = derE + lam * derC\n",
    "        w_0 -= lr1 * derJ\n",
    "        #w_0 -= lr1 * derE\n",
    "        lossV = calculateLoss(validD, validL, w_0, lam)\n",
    "        if it % 10 == 0:\n",
    "            print (lossV)\n",
    "        it += 1\n",
    "    print ('done')\n",
    "    return w_0"
   ]
  },
  {
   "cell_type": "code",
   "execution_count": 376,
   "metadata": {
    "scrolled": true
   },
   "outputs": [
    {
     "name": "stdout",
     "output_type": "stream",
     "text": [
      "3.7378013867\n",
      "85.5315202953\n",
      "10.8417440244\n",
      "4.96003225266\n",
      "1.58018720758\n",
      "3.44893965138\n",
      "1.94464474507\n",
      "1.79662866586\n",
      "1.45443219833\n",
      "0.870489048454\n",
      "0.768208347182\n",
      "0.7242238005\n",
      "0.693224142045\n",
      "0.68344304798\n",
      "1.27664318122\n",
      "0.940623563759\n",
      "0.682497826065\n",
      "0.60829154471\n",
      "0.586596067811\n",
      "0.569396946981\n",
      "0.555059610065\n",
      "done\n"
     ]
    }
   ],
   "source": [
    "weight = softmaxRegression(xTrain, yTrain, 1e-5, 200, lam = 1e-3)"
   ]
  },
  {
   "cell_type": "code",
   "execution_count": 377,
   "metadata": {
    "collapsed": true
   },
   "outputs": [],
   "source": [
    "def pecisionRate(data, label, weight):\n",
    "    correct = 0\n",
    "    for i in range(len(data)):\n",
    "        a = data[i][np.newaxis,:].dot(weight)\n",
    "        y = (np.exp(a) / np.sum(np.exp(a)))[0]\n",
    "        prediction = np.where(y == np.max(y))[0][0]\n",
    "        if label[i, prediction] == 1:\n",
    "            correct += 1\n",
    "    rate = 1.0 * correct / len(label)\n",
    "    return rate"
   ]
  },
  {
   "cell_type": "code",
   "execution_count": 378,
   "metadata": {},
   "outputs": [
    {
     "data": {
      "text/plain": [
       "0.9064"
      ]
     },
     "execution_count": 378,
     "metadata": {},
     "output_type": "execute_result"
    }
   ],
   "source": [
    "yTeHot = oneHot(yTest)\n",
    "acc = pecisionRate(xTest, yTeHot, weight)\n",
    "acc"
   ]
  },
  {
   "cell_type": "code",
   "execution_count": null,
   "metadata": {
    "collapsed": true
   },
   "outputs": [],
   "source": []
  }
 ],
 "metadata": {
  "kernelspec": {
   "display_name": "Python 3",
   "language": "python",
   "name": "python3"
  },
  "language_info": {
   "codemirror_mode": {
    "name": "ipython",
    "version": 3
   },
   "file_extension": ".py",
   "mimetype": "text/x-python",
   "name": "python",
   "nbconvert_exporter": "python",
   "pygments_lexer": "ipython3",
   "version": "3.6.3"
  }
 },
 "nbformat": 4,
 "nbformat_minor": 2
}
