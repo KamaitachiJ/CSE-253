{
 "cells": [
  {
   "cell_type": "code",
   "execution_count": 37,
   "metadata": {
    "collapsed": true
   },
   "outputs": [],
   "source": [
    "def addBias(data):\n",
    "    bias = np.ones(len(data))[:, np.newaxis]\n",
    "    biasData = np.concatenate((bias,data), axis=1)\n",
    "    return biasData"
   ]
  },
  {
   "cell_type": "code",
   "execution_count": 35,
   "metadata": {
    "collapsed": true,
    "scrolled": false
   },
   "outputs": [],
   "source": [
    "#Read in the data from the files.\n",
    "from mnist import MNIST\n",
    "import numpy as np\n",
    "mndata = MNIST('../mnist')\n",
    "\n",
    "trainData, trainLabel = mndata.load_training()\n",
    "\n",
    "testData, testLabel = mndata.load_testing()\n",
    "\n",
    "trainData = np.asarray(trainData)\n",
    "testData = np.asarray(testData)\n",
    "trainLabel = np.asarray(trainLabel)[:, np.newaxis]\n",
    "testLabel = np.asarray(testLabel)[:, np.newaxis]\n",
    "\n",
    "testData = testData / 127.5 - 1\n",
    "testData = addBias(testData)"
   ]
  },
  {
   "cell_type": "code",
   "execution_count": 36,
   "metadata": {},
   "outputs": [
    {
     "data": {
      "image/png": "[encoded data removed]",
      "text/plain": [
       "<matplotlib.figure.Figure at 0x25f43168198>"
      ]
     },
     "metadata": {},
     "output_type": "display_data"
    }
   ],
   "source": [
    "#Show a templete of digits.\n",
    "import matplotlib.pyplot as plt\n",
    "import matplotlib.cm as cm\n",
    "\n",
    "\n",
    "img = np.reshape(trainData[0],(28,28))\n",
    "plt.figure()\n",
    "plt.imshow(img, cmap=cm.gray)\n",
    "plt.show()"
   ]
  },
  {
   "cell_type": "code",
   "execution_count": 100,
   "metadata": {
    "collapsed": true
   },
   "outputs": [],
   "source": [
    "from sklearn.model_selection import train_test_split\n",
    "\n",
    "def sigmoid(x):\n",
    "    return 1.0 / (1 + np.exp(-x))\n",
    "\n",
    "def oneHot(label):\n",
    "    labelHot = np.zeros((len(label),len(np.unique(label))))\n",
    "    for i in range(len(label)):\n",
    "        labelHot[i,label[i]] = 1\n",
    "    return labelHot\n",
    "\n",
    "def ReLU(x):\n",
    "    return x * (x > 0)\n",
    "\n",
    "def calculateLoss(data, label, w1, w2, lam):\n",
    "    label = oneHot(label)\n",
    "    a_j = data.dot(w1)\n",
    "    ga_j = sigmoid(a_j)\n",
    "    a_k = addBias(ga_j).dot(w2)\n",
    "    ga_k = np.exp(a_k) / np.sum(np.exp(a_k), axis=1)[:, np.newaxis]\n",
    "    E = -1.0 * np.mean(label * np.log(ga_k))\n",
    "    C = 0.5 * (np.sum(np.power(w1, 2)) + np.sum(np.power(w2, 2)))\n",
    "    loss = E + lam * C\n",
    "    #loss = E\n",
    "    return loss\n",
    "\n",
    "def pecisionRate(data, label, w1, w2):\n",
    "    a_j = data.dot(w1)\n",
    "    ga_j = sigmoid(a_j)\n",
    "    a_k = addBias(ga_j).dot(w2)\n",
    "    ga_k = np.exp(a_k) / np.sum(np.exp(a_k), axis=1)[:, np.newaxis]\n",
    "    prediction = np.argmax(ga_k, axis = 1)\n",
    "    rate = 1.0 * sum(a == b for (a,b) in zip(prediction, label[:,0])) / len(label)\n",
    "    return rate\n",
    "\n",
    "def oneHiddenLayer(trainData, trainLabel, lr = 1e-1, maxIter = 500, T = 2e8, lam = 1e-3, batchSize = 1, unitNum = 64):\n",
    "    # Process the range of pixel value to [-1..1]\n",
    "    trainData = trainData / 127.5 - 1\n",
    "\n",
    "    # tack on a \"1\" at the beginning for a bias parameter\n",
    "    trainData = addBias(trainData)\n",
    "    \n",
    "    classNum = len(np.unique(trainLabel))\n",
    "    \n",
    "    trainD, validD, trainL, validL = train_test_split(trainData, trainLabel, test_size=0.1, random_state=42)    \n",
    "    \n",
    "    trainL = oneHot(trainL)\n",
    "    w_ij = np.random.normal(0,1,(len(trainD[0]), unitNum))\n",
    "    w_jk = np.random.normal(0,1,(unitNum + 1, classNum))\n",
    "    \n",
    "    index = np.arange(len(trainD))\n",
    "    it = 0\n",
    "    \n",
    "    while it <= maxIter:\n",
    "        np.random.shuffle(index)\n",
    "        lr1 = lr / (1.0 + it / T)\n",
    "        # Mini Batch Gradient Descent\n",
    "        for startInd in range(0, len(trainData) - batchSize + 1, batchSize):\n",
    "            trainDBatch = trainD[index[startInd : startInd + batchSize]]\n",
    "            #trainDMean = np.mean(trainDBatch, axis = 0)[np.newaxis, :]\n",
    "            #trainDBatch = trainDBatch - trainDMean\n",
    "            trainLBatch = trainL[index[startInd : startInd + batchSize]]\n",
    "            \n",
    "            #Forward Propagation\n",
    "            #1. Input to Hidden Layer\n",
    "            a_j = trainDBatch.dot(w_ij)   #(batchSize, unitNum) \n",
    "            ga_j = addBias(sigmoid(a_j))   #(batchSize, unitNum + 1)\n",
    "            #ga_j = addBias(ReLU(a_j))\n",
    "            \n",
    "            #2. Hidden Layer to Output\n",
    "            a_k = ga_j.dot(w_jk)   #(batchSize, classNum)\n",
    "            ga_k = np.exp(a_k) / np.sum(np.exp(a_k), axis=1)[:, np.newaxis]   #(batchSize, classNum)\n",
    "            \n",
    "            #Back Propagation\n",
    "            delta_k = ga_k - trainLBatch   #(batchSize, classNum)\n",
    "            derGa_j = ga_j * (1 - ga_j)   #(batchSize, unitNum)\n",
    "            #derGa_j = np.copy(ga_j)\n",
    "            #derGa_j[derGa_j > 0] = 1\n",
    "            delta_j = (derGa_j * (delta_k.dot(w_jk.T)))[:,1:]   #(batchSize, unitNum)\n",
    "            \n",
    "            # Update weights\n",
    "            w_jk = w_jk - lr1 * (ga_j.T.dot(delta_k) / batchSize) - \\\n",
    "            np.concatenate((np.zeros((1,len(w_jk[0]))), lam * w_jk[1:]), axis = 0)  #(unitNum + 1, classNum)\n",
    "            w_ij = w_ij - lr1 * (trainDBatch.T.dot(delta_j) / batchSize) - \\\n",
    "            np.concatenate((np.zeros((1,len(w_ij[0]))), lam * w_ij[1:]), axis = 0)   #(featuresNum, unitNum)\n",
    "\n",
    "        lossV = calculateLoss(validD, validL, w_ij, w_jk, lam)\n",
    "        accV = pecisionRate(validD, validL, w_ij, w_jk)\n",
    "        if it % 10 == 0:\n",
    "            print (lossV, accV)\n",
    "        it += 1\n",
    "    print ('done')\n",
    "    return w_ij, w_jk"
   ]
  },
  {
   "cell_type": "code",
   "execution_count": 105,
   "metadata": {
    "scrolled": true
   },
   "outputs": [
    {
     "name": "stdout",
     "output_type": "stream",
     "text": [
      "0.296873949867 0.859333333333\n",
      "0.234534411055 0.934333333333\n",
      "0.197312160136 0.943\n",
      "0.168037763607 0.953666666667\n",
      "0.145998316324 0.953666666667\n",
      "0.12677974437 0.957833333333\n",
      "0.111864906946 0.957166666667\n",
      "0.0998043686472 0.9575\n",
      "0.0893184951706 0.9585\n",
      "0.0817033193207 0.961833333333\n",
      "0.0746738219444 0.958\n",
      "0.0688625771985 0.964333333333\n",
      "0.0630156235393 0.964833333333\n",
      "0.0592400788431 0.962333333333\n",
      "0.0594838379485 0.956\n",
      "0.0528740657288 0.966166666667\n",
      "0.0553017884545 0.954333333333\n",
      "0.0496344064102 0.964333333333\n",
      "0.0434214704807 0.966333333333\n",
      "0.0499341205632 0.948833333333\n",
      "0.0535906870208 0.9485\n",
      "0.0517041004674 0.9595\n",
      "0.0502495245146 0.9625\n",
      "0.0501305525129 0.960833333333\n",
      "0.0498183174442 0.960833333333\n",
      "0.0496745045751 0.9605\n",
      "0.0480827201071 0.9635\n",
      "0.0474548464293 0.963833333333\n",
      "0.0501387991347 0.953666666667\n",
      "0.0481797301675 0.958166666667\n",
      "0.0481410325028 0.958666666667\n",
      "0.0445245267216 0.965833333333\n",
      "0.0452950540616 0.968166666667\n",
      "0.0443520496043 0.967833333333\n",
      "0.0469021353726 0.958333333333\n",
      "0.0424658753562 0.966333333333\n",
      "0.045028887707 0.961\n",
      "0.0443260880805 0.965833333333\n",
      "0.0452465984954 0.962833333333\n",
      "0.0459139699317 0.9635\n",
      "0.0451889702793 0.966333333333\n",
      "0.0450427431917 0.964166666667\n",
      "0.0466577241567 0.958333333333\n",
      "0.0479141351352 0.957833333333\n",
      "0.0445130746997 0.9665\n",
      "0.0428489520104 0.965666666667\n",
      "0.045180415044 0.963166666667\n",
      "0.04409141876 0.963166666667\n",
      "0.0439196459616 0.962\n",
      "0.0384558157239 0.973166666667\n",
      "0.0448587219385 0.963166666667\n",
      "done\n"
     ]
    }
   ],
   "source": [
    "w_ij, w_jk = oneHiddenLayer(trainData, trainLabel, lr = 1e-0, maxIter = 500, lam = 1e-5, batchSize = int(len(trainData) / 1000))"
   ]
  },
  {
   "cell_type": "code",
   "execution_count": 106,
   "metadata": {},
   "outputs": [
    {
     "data": {
      "text/plain": [
       "0.96189999999999998"
      ]
     },
     "execution_count": 106,
     "metadata": {},
     "output_type": "execute_result"
    }
   ],
   "source": [
    "acc = pecisionRate(testData, testLabel, w_ij, w_jk)\n",
    "acc"
   ]
  },
  {
   "cell_type": "code",
   "execution_count": null,
   "metadata": {
    "collapsed": true
   },
   "outputs": [],
   "source": []
  }
 ],
 "metadata": {
  "kernelspec": {
   "display_name": "Python 3",
   "language": "python",
   "name": "python3"
  },
  "language_info": {
   "codemirror_mode": {
    "name": "ipython",
    "version": 3
   },
   "file_extension": ".py",
   "mimetype": "text/x-python",
   "name": "python",
   "nbconvert_exporter": "python",
   "pygments_lexer": "ipython3",
   "version": "3.6.3"
  }
 },
 "nbformat": 4,
 "nbformat_minor": 2
}
